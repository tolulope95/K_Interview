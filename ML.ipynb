{
 "cells": [
  {
   "cell_type": "code",
   "execution_count": 1,
   "id": "acc8a5c6",
   "metadata": {},
   "outputs": [],
   "source": [
    "import import_ipynb\n",
    "import numpy as np\n",
    "import matplotlib.pyplot as plt\n",
    "import pandas as pd\n",
    "from sklearn.preprocessing import StandardScaler\n",
    "from sklearn.decomposition import PCA\n",
    "from sklearn import decomposition\n",
    "import xgboost as xgb\n",
    "from sklearn.metrics import mean_squared_error"
   ]
  },
  {
   "cell_type": "code",
   "execution_count": 2,
   "id": "20ac9e33",
   "metadata": {},
   "outputs": [
    {
     "name": "stdout",
     "output_type": "stream",
     "text": [
      "importing Jupyter notebook from Data_investigation.ipynb\n"
     ]
    }
   ],
   "source": [
    "from Data_investigation import Load_and_Combine\n",
    "from Data_investigation import Filter_Data\n",
    "from Data_investigation import Drop_Cols\n",
    "from Data_investigation import Split_Col_Types\n",
    "from Data_investigation import Restruct_Data\n",
    "from Data_investigation import encode_and_concat\n",
    "from Data_investigation import Show_Unique_Values\n",
    "from Data_investigation import Count_Unique"
   ]
  },
  {
   "cell_type": "code",
   "execution_count": 3,
   "id": "b85d879a",
   "metadata": {},
   "outputs": [],
   "source": [
    "Users=pd.read_csv('./ka_users.csv')"
   ]
  },
  {
   "cell_type": "code",
   "execution_count": 4,
   "id": "46bd137c",
   "metadata": {},
   "outputs": [],
   "source": [
    "path1='./ka_devices.db'\n",
    "path2='./ka_users.csv'\n",
    "path3='./ka_actions.parquet'\n",
    "columns_drop=['game_stats_tutorial_complete','index','device_os_s','device_mapped_s','geo_s','device_manufacturer_s','device_model_s','device_gpu_s','lang_s']"
   ]
  },
  {
   "cell_type": "code",
   "execution_count": 5,
   "id": "b4f49e4d",
   "metadata": {},
   "outputs": [],
   "source": [
    "df_F=Load_and_Combine(path1,path2,path3)"
   ]
  },
  {
   "cell_type": "code",
   "execution_count": 6,
   "id": "73c2d1bb",
   "metadata": {},
   "outputs": [],
   "source": [
    "df_F,s_nlls=Filter_Data(df_F)"
   ]
  },
  {
   "cell_type": "code",
   "execution_count": 7,
   "id": "2d0be926",
   "metadata": {},
   "outputs": [],
   "source": [
    "#Use this to show where the Na's are. #It is also verified that the amount of Na's are small see 'Filter_Data()'\n",
    "#s_nlls"
   ]
  },
  {
   "cell_type": "code",
   "execution_count": 8,
   "id": "232cc844",
   "metadata": {},
   "outputs": [],
   "source": [
    "df_F=Drop_Cols(df_F,columns_drop)"
   ]
  },
  {
   "cell_type": "code",
   "execution_count": 9,
   "id": "c999ff2b",
   "metadata": {},
   "outputs": [
    {
     "data": {
      "text/plain": [
       "count    1.751748e+06\n",
       "mean     1.867426e+00\n",
       "std      1.713886e+01\n",
       "min      0.000000e+00\n",
       "25%      0.000000e+00\n",
       "50%      0.000000e+00\n",
       "75%      0.000000e+00\n",
       "max      4.500000e+02\n",
       "Name: total_spend, dtype: float64"
      ]
     },
     "execution_count": 9,
     "metadata": {},
     "output_type": "execute_result"
    }
   ],
   "source": [
    "df_F.total_spend.describe()"
   ]
  },
  {
   "cell_type": "code",
   "execution_count": 10,
   "id": "a33c812d",
   "metadata": {},
   "outputs": [],
   "source": [
    "types,cat_types,cluster_types= Split_Col_Types(df_F)"
   ]
  },
  {
   "cell_type": "markdown",
   "id": "866dc260",
   "metadata": {},
   "source": [
    "### Distinct Categorical values"
   ]
  },
  {
   "cell_type": "code",
   "execution_count": 11,
   "id": "1a20433e",
   "metadata": {},
   "outputs": [],
   "source": [
    "### Use this to show how many distinct categorical values are present as well as the count. Consider grouping using regex and nltk \n",
    "#Show_Unique_Values(df_F,cat_types)\n",
    "#Count_Unique(df_F,cat_types)"
   ]
  },
  {
   "cell_type": "code",
   "execution_count": 12,
   "id": "1f9e4523",
   "metadata": {},
   "outputs": [],
   "source": [
    "### Therefore remove more categorical data \n",
    "cat_types=[i for i in types['object'] if i not in columns_drop]"
   ]
  },
  {
   "cell_type": "code",
   "execution_count": 13,
   "id": "10dad973",
   "metadata": {},
   "outputs": [
    {
     "data": {
      "text/plain": [
       "['device_mem_i',\n",
       " 'device_gmem_i',\n",
       " 'device_mem_grouping_i',\n",
       " 'device_gmem_grouping_i',\n",
       " 'device_numcpu_i',\n",
       " 'device_height_i',\n",
       " 'logins',\n",
       " 'game_stats_tutorial_complete_time',\n",
       " 'game_stats_xp',\n",
       " 'game_stats_xp1',\n",
       " 'game_stats_xp2',\n",
       " 'game_stats_xp3',\n",
       " 'redeemer_actions',\n",
       " 'scribe_actions',\n",
       " 'total_spend']"
      ]
     },
     "execution_count": 13,
     "metadata": {},
     "output_type": "execute_result"
    }
   ],
   "source": [
    "cluster_types"
   ]
  },
  {
   "cell_type": "code",
   "execution_count": 14,
   "id": "ed1a9e20",
   "metadata": {},
   "outputs": [],
   "source": [
    "df_F=Restruct_Data(df_F,cluster_types)"
   ]
  },
  {
   "cell_type": "code",
   "execution_count": 15,
   "id": "a4ac6c13",
   "metadata": {},
   "outputs": [
    {
     "data": {
      "text/plain": [
       "-0.3987861276732424"
      ]
     },
     "execution_count": 15,
     "metadata": {},
     "output_type": "execute_result"
    }
   ],
   "source": [
    "df_F.device_mem_i.min()"
   ]
  },
  {
   "cell_type": "code",
   "execution_count": 20,
   "id": "3a9750f5",
   "metadata": {},
   "outputs": [
    {
     "data": {
      "text/html": [
       "<div>\n",
       "<style scoped>\n",
       "    .dataframe tbody tr th:only-of-type {\n",
       "        vertical-align: middle;\n",
       "    }\n",
       "\n",
       "    .dataframe tbody tr th {\n",
       "        vertical-align: top;\n",
       "    }\n",
       "\n",
       "    .dataframe thead th {\n",
       "        text-align: right;\n",
       "    }\n",
       "</style>\n",
       "<table border=\"1\" class=\"dataframe\">\n",
       "  <thead>\n",
       "    <tr style=\"text-align: right;\">\n",
       "      <th></th>\n",
       "      <th>uid_s</th>\n",
       "      <th>region_s</th>\n",
       "      <th>tz_i</th>\n",
       "      <th>local_time_join_hour</th>\n",
       "      <th>local_time_join_dow</th>\n",
       "      <th>total_spend</th>\n",
       "      <th>platform_s</th>\n",
       "      <th>device_mem_i</th>\n",
       "      <th>device_gmem_i</th>\n",
       "      <th>device_mem_grouping_i</th>\n",
       "      <th>...</th>\n",
       "      <th>device_numcpu_i</th>\n",
       "      <th>device_height_i</th>\n",
       "      <th>logins</th>\n",
       "      <th>game_stats_tutorial_complete_time</th>\n",
       "      <th>game_stats_xp</th>\n",
       "      <th>game_stats_xp1</th>\n",
       "      <th>game_stats_xp2</th>\n",
       "      <th>game_stats_xp3</th>\n",
       "      <th>redeemer_actions</th>\n",
       "      <th>scribe_actions</th>\n",
       "    </tr>\n",
       "  </thead>\n",
       "  <tbody>\n",
       "    <tr>\n",
       "      <th>count</th>\n",
       "      <td>1.751672e+06</td>\n",
       "      <td>1.751672e+06</td>\n",
       "      <td>1.751672e+06</td>\n",
       "      <td>1.751672e+06</td>\n",
       "      <td>1.751672e+06</td>\n",
       "      <td>1.751672e+06</td>\n",
       "      <td>1.751672e+06</td>\n",
       "      <td>1.751672e+06</td>\n",
       "      <td>1.751672e+06</td>\n",
       "      <td>1.751672e+06</td>\n",
       "      <td>...</td>\n",
       "      <td>1.751672e+06</td>\n",
       "      <td>1.751672e+06</td>\n",
       "      <td>1.751672e+06</td>\n",
       "      <td>1.751672e+06</td>\n",
       "      <td>1751672</td>\n",
       "      <td>1751672</td>\n",
       "      <td>1751672</td>\n",
       "      <td>1751672</td>\n",
       "      <td>1751672</td>\n",
       "      <td>1751672</td>\n",
       "    </tr>\n",
       "    <tr>\n",
       "      <th>unique</th>\n",
       "      <td>2.162000e+03</td>\n",
       "      <td>8.000000e+00</td>\n",
       "      <td>1.070000e+02</td>\n",
       "      <td>8.000000e+00</td>\n",
       "      <td>1.100000e+01</td>\n",
       "      <td>1.690000e+02</td>\n",
       "      <td>1.940000e+02</td>\n",
       "      <td>2.794700e+04</td>\n",
       "      <td>2.225700e+04</td>\n",
       "      <td>5.591000e+03</td>\n",
       "      <td>...</td>\n",
       "      <td>7.835000e+03</td>\n",
       "      <td>3.745000e+03</td>\n",
       "      <td>9.660000e+02</td>\n",
       "      <td>7.900000e+01</td>\n",
       "      <td>1751672</td>\n",
       "      <td>5</td>\n",
       "      <td>31</td>\n",
       "      <td>24</td>\n",
       "      <td>7</td>\n",
       "      <td>2</td>\n",
       "    </tr>\n",
       "    <tr>\n",
       "      <th>top</th>\n",
       "      <td>-2.296856e-01</td>\n",
       "      <td>2.944855e-01</td>\n",
       "      <td>-2.260122e-01</td>\n",
       "      <td>2.944855e-01</td>\n",
       "      <td>8.445697e-01</td>\n",
       "      <td>6.647335e-01</td>\n",
       "      <td>-4.699299e-01</td>\n",
       "      <td>-3.251942e-01</td>\n",
       "      <td>-3.635366e-01</td>\n",
       "      <td>-7.173117e-01</td>\n",
       "      <td>...</td>\n",
       "      <td>-1.718724e-01</td>\n",
       "      <td>-5.791520e-01</td>\n",
       "      <td>-7.592304e-01</td>\n",
       "      <td>-1.089597e-01</td>\n",
       "      <td>0</td>\n",
       "      <td>asia</td>\n",
       "      <td>28800</td>\n",
       "      <td>20</td>\n",
       "      <td>7</td>\n",
       "      <td>android</td>\n",
       "    </tr>\n",
       "    <tr>\n",
       "      <th>freq</th>\n",
       "      <td>4.339900e+04</td>\n",
       "      <td>8.149090e+05</td>\n",
       "      <td>1.762810e+05</td>\n",
       "      <td>8.149090e+05</td>\n",
       "      <td>9.361470e+05</td>\n",
       "      <td>5.855500e+05</td>\n",
       "      <td>7.965470e+05</td>\n",
       "      <td>3.982000e+03</td>\n",
       "      <td>1.945580e+05</td>\n",
       "      <td>2.273800e+05</td>\n",
       "      <td>...</td>\n",
       "      <td>1.600638e+06</td>\n",
       "      <td>8.670300e+04</td>\n",
       "      <td>6.612400e+04</td>\n",
       "      <td>1.720981e+06</td>\n",
       "      <td>1</td>\n",
       "      <td>972686</td>\n",
       "      <td>708564</td>\n",
       "      <td>127442</td>\n",
       "      <td>458458</td>\n",
       "      <td>1322479</td>\n",
       "    </tr>\n",
       "  </tbody>\n",
       "</table>\n",
       "<p>4 rows × 21 columns</p>\n",
       "</div>"
      ],
      "text/plain": [
       "               uid_s      region_s          tz_i  local_time_join_hour  \\\n",
       "count   1.751672e+06  1.751672e+06  1.751672e+06          1.751672e+06   \n",
       "unique  2.162000e+03  8.000000e+00  1.070000e+02          8.000000e+00   \n",
       "top    -2.296856e-01  2.944855e-01 -2.260122e-01          2.944855e-01   \n",
       "freq    4.339900e+04  8.149090e+05  1.762810e+05          8.149090e+05   \n",
       "\n",
       "        local_time_join_dow   total_spend    platform_s  device_mem_i  \\\n",
       "count          1.751672e+06  1.751672e+06  1.751672e+06  1.751672e+06   \n",
       "unique         1.100000e+01  1.690000e+02  1.940000e+02  2.794700e+04   \n",
       "top            8.445697e-01  6.647335e-01 -4.699299e-01 -3.251942e-01   \n",
       "freq           9.361470e+05  5.855500e+05  7.965470e+05  3.982000e+03   \n",
       "\n",
       "        device_gmem_i  device_mem_grouping_i  ...  device_numcpu_i  \\\n",
       "count    1.751672e+06           1.751672e+06  ...     1.751672e+06   \n",
       "unique   2.225700e+04           5.591000e+03  ...     7.835000e+03   \n",
       "top     -3.635366e-01          -7.173117e-01  ...    -1.718724e-01   \n",
       "freq     1.945580e+05           2.273800e+05  ...     1.600638e+06   \n",
       "\n",
       "        device_height_i        logins  game_stats_tutorial_complete_time  \\\n",
       "count      1.751672e+06  1.751672e+06                       1.751672e+06   \n",
       "unique     3.745000e+03  9.660000e+02                       7.900000e+01   \n",
       "top       -5.791520e-01 -7.592304e-01                      -1.089597e-01   \n",
       "freq       8.670300e+04  6.612400e+04                       1.720981e+06   \n",
       "\n",
       "        game_stats_xp  game_stats_xp1 game_stats_xp2  game_stats_xp3  \\\n",
       "count         1751672         1751672        1751672         1751672   \n",
       "unique        1751672               5             31              24   \n",
       "top                 0            asia          28800              20   \n",
       "freq                1          972686         708564          127442   \n",
       "\n",
       "        redeemer_actions  scribe_actions  \n",
       "count            1751672         1751672  \n",
       "unique                 7               2  \n",
       "top                    7         android  \n",
       "freq              458458         1322479  \n",
       "\n",
       "[4 rows x 21 columns]"
      ]
     },
     "execution_count": 20,
     "metadata": {},
     "output_type": "execute_result"
    }
   ],
   "source": [
    "df_F.describe()"
   ]
  },
  {
   "cell_type": "code",
   "execution_count": 17,
   "id": "9a1b60fb",
   "metadata": {},
   "outputs": [],
   "source": [
    "X,y=df_F.drop(['total_spend'],axis=1),df_F.total_spend"
   ]
  },
  {
   "cell_type": "code",
   "execution_count": 18,
   "id": "3fc28adb",
   "metadata": {},
   "outputs": [],
   "source": [
    "X=encode_and_concat(X,cat_types)\n"
   ]
  },
  {
   "cell_type": "code",
   "execution_count": 19,
   "id": "1bfab473",
   "metadata": {},
   "outputs": [
    {
     "ename": "ValueError",
     "evalue": "DataFrame.dtypes for data must be int, float, bool or category.  When\ncategorical type is supplied, DMatrix parameter `enable_categorical` must\nbe set to `True`. Invalid columns:uid_s, tz_i, local_time_join_hour, local_time_join_dow, device_mem_i, device_gmem_i, device_mem_grouping_i, device_gmem_grouping_i, device_numcpu_i, device_height_i, logins, game_stats_tutorial_complete_time, game_stats_xp, game_stats_xp1, game_stats_xp2, game_stats_xp3, redeemer_actions, scribe_actions",
     "output_type": "error",
     "traceback": [
      "\u001b[1;31m---------------------------------------------------------------------------\u001b[0m",
      "\u001b[1;31mValueError\u001b[0m                                Traceback (most recent call last)",
      "\u001b[1;32m<ipython-input-19-ebf2d45e8333>\u001b[0m in \u001b[0;36m<module>\u001b[1;34m\u001b[0m\n\u001b[1;32m----> 1\u001b[1;33m \u001b[0mdmatrix\u001b[0m \u001b[1;33m=\u001b[0m \u001b[0mxgb\u001b[0m\u001b[1;33m.\u001b[0m\u001b[0mDMatrix\u001b[0m\u001b[1;33m(\u001b[0m\u001b[0mdata\u001b[0m\u001b[1;33m=\u001b[0m\u001b[0mX\u001b[0m\u001b[1;33m,\u001b[0m \u001b[0mlabel\u001b[0m\u001b[1;33m=\u001b[0m\u001b[0my\u001b[0m\u001b[1;33m)\u001b[0m\u001b[1;33m\u001b[0m\u001b[1;33m\u001b[0m\u001b[0m\n\u001b[0m\u001b[0;32m      2\u001b[0m params = { 'max_depth': 100,\n\u001b[0;32m      3\u001b[0m            \u001b[1;34m'learning_rate'\u001b[0m\u001b[1;33m:\u001b[0m \u001b[1;36m0.3\u001b[0m\u001b[1;33m,\u001b[0m\u001b[1;33m\u001b[0m\u001b[1;33m\u001b[0m\u001b[0m\n\u001b[0;32m      4\u001b[0m            \u001b[1;34m'colsample_bytree'\u001b[0m\u001b[1;33m:\u001b[0m \u001b[1;36m0.3\u001b[0m\u001b[1;33m,\u001b[0m\u001b[1;33m\u001b[0m\u001b[1;33m\u001b[0m\u001b[0m\n\u001b[0;32m      5\u001b[0m             \u001b[1;34m'alpha'\u001b[0m\u001b[1;33m:\u001b[0m \u001b[1;36m50\u001b[0m\u001b[1;33m,\u001b[0m\u001b[1;33m\u001b[0m\u001b[1;33m\u001b[0m\u001b[0m\n",
      "\u001b[1;32m~\\Anaconda3\\envs\\DS\\lib\\site-packages\\xgboost\\core.py\u001b[0m in \u001b[0;36minner_f\u001b[1;34m(*args, **kwargs)\u001b[0m\n\u001b[0;32m    504\u001b[0m         \u001b[1;32mfor\u001b[0m \u001b[0mk\u001b[0m\u001b[1;33m,\u001b[0m \u001b[0marg\u001b[0m \u001b[1;32min\u001b[0m \u001b[0mzip\u001b[0m\u001b[1;33m(\u001b[0m\u001b[0msig\u001b[0m\u001b[1;33m.\u001b[0m\u001b[0mparameters\u001b[0m\u001b[1;33m,\u001b[0m \u001b[0margs\u001b[0m\u001b[1;33m)\u001b[0m\u001b[1;33m:\u001b[0m\u001b[1;33m\u001b[0m\u001b[1;33m\u001b[0m\u001b[0m\n\u001b[0;32m    505\u001b[0m             \u001b[0mkwargs\u001b[0m\u001b[1;33m[\u001b[0m\u001b[0mk\u001b[0m\u001b[1;33m]\u001b[0m \u001b[1;33m=\u001b[0m \u001b[0marg\u001b[0m\u001b[1;33m\u001b[0m\u001b[1;33m\u001b[0m\u001b[0m\n\u001b[1;32m--> 506\u001b[1;33m         \u001b[1;32mreturn\u001b[0m \u001b[0mf\u001b[0m\u001b[1;33m(\u001b[0m\u001b[1;33m**\u001b[0m\u001b[0mkwargs\u001b[0m\u001b[1;33m)\u001b[0m\u001b[1;33m\u001b[0m\u001b[1;33m\u001b[0m\u001b[0m\n\u001b[0m\u001b[0;32m    507\u001b[0m \u001b[1;33m\u001b[0m\u001b[0m\n\u001b[0;32m    508\u001b[0m     \u001b[1;32mreturn\u001b[0m \u001b[0minner_f\u001b[0m\u001b[1;33m\u001b[0m\u001b[1;33m\u001b[0m\u001b[0m\n",
      "\u001b[1;32m~\\Anaconda3\\envs\\DS\\lib\\site-packages\\xgboost\\core.py\u001b[0m in \u001b[0;36m__init__\u001b[1;34m(self, data, label, weight, base_margin, missing, silent, feature_names, feature_types, nthread, group, qid, label_lower_bound, label_upper_bound, feature_weights, enable_categorical)\u001b[0m\n\u001b[0;32m    614\u001b[0m             \u001b[1;32mreturn\u001b[0m\u001b[1;33m\u001b[0m\u001b[1;33m\u001b[0m\u001b[0m\n\u001b[0;32m    615\u001b[0m \u001b[1;33m\u001b[0m\u001b[0m\n\u001b[1;32m--> 616\u001b[1;33m         handle, feature_names, feature_types = dispatch_data_backend(\n\u001b[0m\u001b[0;32m    617\u001b[0m             \u001b[0mdata\u001b[0m\u001b[1;33m,\u001b[0m\u001b[1;33m\u001b[0m\u001b[1;33m\u001b[0m\u001b[0m\n\u001b[0;32m    618\u001b[0m             \u001b[0mmissing\u001b[0m\u001b[1;33m=\u001b[0m\u001b[0mself\u001b[0m\u001b[1;33m.\u001b[0m\u001b[0mmissing\u001b[0m\u001b[1;33m,\u001b[0m\u001b[1;33m\u001b[0m\u001b[1;33m\u001b[0m\u001b[0m\n",
      "\u001b[1;32m~\\Anaconda3\\envs\\DS\\lib\\site-packages\\xgboost\\data.py\u001b[0m in \u001b[0;36mdispatch_data_backend\u001b[1;34m(data, missing, threads, feature_names, feature_types, enable_categorical)\u001b[0m\n\u001b[0;32m    770\u001b[0m         \u001b[1;32mreturn\u001b[0m \u001b[0m_from_tuple\u001b[0m\u001b[1;33m(\u001b[0m\u001b[0mdata\u001b[0m\u001b[1;33m,\u001b[0m \u001b[0mmissing\u001b[0m\u001b[1;33m,\u001b[0m \u001b[0mthreads\u001b[0m\u001b[1;33m,\u001b[0m \u001b[0mfeature_names\u001b[0m\u001b[1;33m,\u001b[0m \u001b[0mfeature_types\u001b[0m\u001b[1;33m)\u001b[0m\u001b[1;33m\u001b[0m\u001b[1;33m\u001b[0m\u001b[0m\n\u001b[0;32m    771\u001b[0m     \u001b[1;32mif\u001b[0m \u001b[0m_is_pandas_df\u001b[0m\u001b[1;33m(\u001b[0m\u001b[0mdata\u001b[0m\u001b[1;33m)\u001b[0m\u001b[1;33m:\u001b[0m\u001b[1;33m\u001b[0m\u001b[1;33m\u001b[0m\u001b[0m\n\u001b[1;32m--> 772\u001b[1;33m         return _from_pandas_df(data, enable_categorical, missing, threads,\n\u001b[0m\u001b[0;32m    773\u001b[0m                                feature_names, feature_types)\n\u001b[0;32m    774\u001b[0m     \u001b[1;32mif\u001b[0m \u001b[0m_is_pandas_series\u001b[0m\u001b[1;33m(\u001b[0m\u001b[0mdata\u001b[0m\u001b[1;33m)\u001b[0m\u001b[1;33m:\u001b[0m\u001b[1;33m\u001b[0m\u001b[1;33m\u001b[0m\u001b[0m\n",
      "\u001b[1;32m~\\Anaconda3\\envs\\DS\\lib\\site-packages\\xgboost\\data.py\u001b[0m in \u001b[0;36m_from_pandas_df\u001b[1;34m(data, enable_categorical, missing, nthread, feature_names, feature_types)\u001b[0m\n\u001b[0;32m    310\u001b[0m     \u001b[0mfeature_types\u001b[0m\u001b[1;33m:\u001b[0m \u001b[0mOptional\u001b[0m\u001b[1;33m[\u001b[0m\u001b[0mList\u001b[0m\u001b[1;33m[\u001b[0m\u001b[0mstr\u001b[0m\u001b[1;33m]\u001b[0m\u001b[1;33m]\u001b[0m\u001b[1;33m,\u001b[0m\u001b[1;33m\u001b[0m\u001b[1;33m\u001b[0m\u001b[0m\n\u001b[0;32m    311\u001b[0m ):\n\u001b[1;32m--> 312\u001b[1;33m     data, feature_names, feature_types = _transform_pandas_df(\n\u001b[0m\u001b[0;32m    313\u001b[0m         data, enable_categorical, feature_names, feature_types)\n\u001b[0;32m    314\u001b[0m     return _from_numpy_array(data, missing, nthread, feature_names,\n",
      "\u001b[1;32m~\\Anaconda3\\envs\\DS\\lib\\site-packages\\xgboost\\data.py\u001b[0m in \u001b[0;36m_transform_pandas_df\u001b[1;34m(data, enable_categorical, feature_names, feature_types, meta, meta_type)\u001b[0m\n\u001b[0;32m    254\u001b[0m         \u001b[1;32mfor\u001b[0m \u001b[0mdtype\u001b[0m \u001b[1;32min\u001b[0m \u001b[0mdata\u001b[0m\u001b[1;33m.\u001b[0m\u001b[0mdtypes\u001b[0m\u001b[1;33m\u001b[0m\u001b[1;33m\u001b[0m\u001b[0m\n\u001b[0;32m    255\u001b[0m     ):\n\u001b[1;32m--> 256\u001b[1;33m         \u001b[0m_invalid_dataframe_dtype\u001b[0m\u001b[1;33m(\u001b[0m\u001b[0mdata\u001b[0m\u001b[1;33m)\u001b[0m\u001b[1;33m\u001b[0m\u001b[1;33m\u001b[0m\u001b[0m\n\u001b[0m\u001b[0;32m    257\u001b[0m \u001b[1;33m\u001b[0m\u001b[0m\n\u001b[0;32m    258\u001b[0m     \u001b[1;31m# handle feature names\u001b[0m\u001b[1;33m\u001b[0m\u001b[1;33m\u001b[0m\u001b[1;33m\u001b[0m\u001b[0m\n",
      "\u001b[1;32m~\\Anaconda3\\envs\\DS\\lib\\site-packages\\xgboost\\data.py\u001b[0m in \u001b[0;36m_invalid_dataframe_dtype\u001b[1;34m(data)\u001b[0m\n\u001b[0;32m    234\u001b[0m \u001b[0mcategorical\u001b[0m \u001b[0mtype\u001b[0m \u001b[1;32mis\u001b[0m \u001b[0msupplied\u001b[0m\u001b[1;33m,\u001b[0m \u001b[0mDMatrix\u001b[0m \u001b[0mparameter\u001b[0m\u001b[0;31m \u001b[0m\u001b[0;31m`\u001b[0m\u001b[0menable_categorical\u001b[0m\u001b[0;31m`\u001b[0m \u001b[0mmust\u001b[0m\u001b[1;33m\u001b[0m\u001b[1;33m\u001b[0m\u001b[0m\n\u001b[0;32m    235\u001b[0m be set to `True`.\"\"\" + err\n\u001b[1;32m--> 236\u001b[1;33m     \u001b[1;32mraise\u001b[0m \u001b[0mValueError\u001b[0m\u001b[1;33m(\u001b[0m\u001b[0mmsg\u001b[0m\u001b[1;33m)\u001b[0m\u001b[1;33m\u001b[0m\u001b[1;33m\u001b[0m\u001b[0m\n\u001b[0m\u001b[0;32m    237\u001b[0m \u001b[1;33m\u001b[0m\u001b[0m\n\u001b[0;32m    238\u001b[0m \u001b[1;33m\u001b[0m\u001b[0m\n",
      "\u001b[1;31mValueError\u001b[0m: DataFrame.dtypes for data must be int, float, bool or category.  When\ncategorical type is supplied, DMatrix parameter `enable_categorical` must\nbe set to `True`. Invalid columns:uid_s, tz_i, local_time_join_hour, local_time_join_dow, device_mem_i, device_gmem_i, device_mem_grouping_i, device_gmem_grouping_i, device_numcpu_i, device_height_i, logins, game_stats_tutorial_complete_time, game_stats_xp, game_stats_xp1, game_stats_xp2, game_stats_xp3, redeemer_actions, scribe_actions"
     ]
    }
   ],
   "source": [
    "dmatrix = xgb.DMatrix(data=X, label=y)\n",
    "params = { 'max_depth': 100,\n",
    "           'learning_rate': 0.3,\n",
    "           'colsample_bytree': 0.3,\n",
    "            'alpha': 50,\n",
    "         'subsample': 0.6}\n",
    "cv_results = xgb.cv(dtrain=dmatrix, \n",
    "                   params=params,\n",
    "                   metrics='rmse', \n",
    "                   as_pandas=True,\n",
    "                    num_boost_round=100,\n",
    "                 early_stopping_rounds=20,\n",
    "                   nfold=5)\n"
   ]
  },
  {
   "cell_type": "code",
   "execution_count": null,
   "id": "47a24825",
   "metadata": {},
   "outputs": [],
   "source": [
    "cv_results.head()"
   ]
  },
  {
   "cell_type": "code",
   "execution_count": null,
   "id": "0de8b41a",
   "metadata": {},
   "outputs": [],
   "source": [
    "print((cv_results[\"test-rmse-mean\"]).tail(1))"
   ]
  },
  {
   "cell_type": "code",
   "execution_count": null,
   "id": "2f0f00a2",
   "metadata": {},
   "outputs": [],
   "source": [
    "xg_reg = xgb.train(params=params, dtrain=dmatrix, num_boost_round=100)\n"
   ]
  },
  {
   "cell_type": "code",
   "execution_count": null,
   "id": "803850f3",
   "metadata": {},
   "outputs": [],
   "source": [
    "xgb.plot_importance(xg_reg)\n",
    "plt.rcParams['figure.figsize'] = [5, 5]\n",
    "plt.show()"
   ]
  },
  {
   "cell_type": "code",
   "execution_count": null,
   "id": "c5dc63b0",
   "metadata": {},
   "outputs": [],
   "source": [
    "y.describe()"
   ]
  },
  {
   "cell_type": "code",
   "execution_count": null,
   "id": "bae16cbf",
   "metadata": {},
   "outputs": [],
   "source": [
    "### time taken to complete game may be important, investigate\n",
    "### Logins seems important, investigate\n",
    "### We already know game_stats_tutorial_complete is important \n",
    "\n",
    "#Use these variables for visualization to build a better profile. Additionally, check XGBoost "
   ]
  },
  {
   "cell_type": "code",
   "execution_count": null,
   "id": "24f7df70",
   "metadata": {},
   "outputs": [],
   "source": [
    "## using scaled data because we might add l1 parameter#\n"
   ]
  },
  {
   "cell_type": "code",
   "execution_count": null,
   "id": "fd9550f6",
   "metadata": {},
   "outputs": [],
   "source": [
    "#### Using the variable importance, and PCA. We want to investigate specific variables "
   ]
  },
  {
   "cell_type": "code",
   "execution_count": null,
   "id": "22cdd86c",
   "metadata": {},
   "outputs": [],
   "source": [
    "# Game_stat_titorial_Complete_Time, redeemer_actions,device_mem,logins\n",
    "### create bins for DataFrame \n",
    "### Use coplot\n",
    "### Summary \n",
    "### Finish \n"
   ]
  },
  {
   "cell_type": "code",
   "execution_count": null,
   "id": "0b27286f",
   "metadata": {},
   "outputs": [],
   "source": [
    "column_types=df_F.columns.to_series().groupby(df_F.dtypes).groups\n",
    "types={i.name: v for i, v in column_types.items()}\n",
    "types\n"
   ]
  }
 ],
 "metadata": {
  "kernelspec": {
   "display_name": "Python 3",
   "language": "python",
   "name": "python3"
  },
  "language_info": {
   "codemirror_mode": {
    "name": "ipython",
    "version": 3
   },
   "file_extension": ".py",
   "mimetype": "text/x-python",
   "name": "python",
   "nbconvert_exporter": "python",
   "pygments_lexer": "ipython3",
   "version": "3.8.8"
  }
 },
 "nbformat": 4,
 "nbformat_minor": 5
}
