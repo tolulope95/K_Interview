{
 "cells": [
  {
   "cell_type": "code",
   "execution_count": 1,
   "id": "6881bddc",
   "metadata": {},
   "outputs": [],
   "source": [
    "import import_ipynb\n",
    "import numpy as np\n",
    "import matplotlib.pyplot as plt\n",
    "import pandas as pd\n",
    "from sklearn.preprocessing import StandardScaler\n",
    "from sklearn.decomposition import PCA\n",
    "from sklearn import decomposition\n",
    "import xgboost as xgb\n",
    "from sklearn.metrics import mean_squared_error"
   ]
  },
  {
   "cell_type": "code",
   "execution_count": 2,
   "id": "5a0c91da",
   "metadata": {},
   "outputs": [
    {
     "name": "stdout",
     "output_type": "stream",
     "text": [
      "importing Jupyter notebook from Data_investigation.ipynb\n"
     ]
    }
   ],
   "source": [
    "from Data_investigation import load_and_combine\n",
    "from Data_investigation import filter_data\n",
    "from Data_investigation import drop_columns\n",
    "from Data_investigation import split_column_types\n",
    "from Data_investigation import restructure_data\n",
    "from Data_investigation import encode_and_concat\n",
    "from Data_investigation import show_unique_values\n",
    "from Data_investigation import count_unique"
   ]
  },
  {
   "cell_type": "code",
   "execution_count": 3,
   "id": "06691570",
   "metadata": {},
   "outputs": [],
   "source": [
    "Users=pd.read_csv('./ka_users.csv')"
   ]
  },
  {
   "cell_type": "code",
   "execution_count": 4,
   "id": "e6b68b79",
   "metadata": {},
   "outputs": [],
   "source": [
    "path1='./ka_devices.db'\n",
    "path2='./ka_users.csv'\n",
    "path3='./ka_actions.parquet'\n",
    "columns_drop=['game_stats_tutorial_complete','index','device_os_s','device_mapped_s','geo_s','device_manufacturer_s','device_model_s','device_gpu_s','lang_s']"
   ]
  },
  {
   "cell_type": "code",
   "execution_count": 5,
   "id": "f9ca9f34",
   "metadata": {},
   "outputs": [],
   "source": [
    "df=load_and_combine(path1,path2,path3)"
   ]
  },
  {
   "cell_type": "code",
   "execution_count": 6,
   "id": "764af33e",
   "metadata": {},
   "outputs": [],
   "source": [
    "df,s_nlls=filter_data(df)"
   ]
  },
  {
   "cell_type": "code",
   "execution_count": 7,
   "id": "79c87bfe",
   "metadata": {},
   "outputs": [],
   "source": [
    "#Use this to show where the Na's are. #It is also verified that the amount of Na's are small see 'Filter_Data()'\n",
    "#s_nlls"
   ]
  },
  {
   "cell_type": "code",
   "execution_count": 8,
   "id": "eb4be83f",
   "metadata": {},
   "outputs": [],
   "source": [
    "df=drop_columns(df,columns_drop)"
   ]
  },
  {
   "cell_type": "code",
   "execution_count": 9,
   "id": "27218bb5",
   "metadata": {},
   "outputs": [],
   "source": [
    "types,cat_types,cluster_types= split_column_types(df)"
   ]
  },
  {
   "cell_type": "markdown",
   "id": "200d76f1",
   "metadata": {},
   "source": [
    "### Distinct Categorical values"
   ]
  },
  {
   "cell_type": "code",
   "execution_count": 10,
   "id": "79b84d35",
   "metadata": {},
   "outputs": [],
   "source": [
    "### Use this to show how many distinct categorical values are present as well as the count. Consider grouping using regex and nltk \n",
    "#Show_Unique_Values(df_F,cat_types)\n",
    "#Count_Unique(df_F,cat_types)"
   ]
  },
  {
   "cell_type": "code",
   "execution_count": 11,
   "id": "132b1640",
   "metadata": {},
   "outputs": [],
   "source": [
    "### Therefore remove more categorical data \n",
    "cat_types=[i for i in types['object'] if i not in columns_drop]"
   ]
  },
  {
   "cell_type": "code",
   "execution_count": 12,
   "id": "83c5c68f",
   "metadata": {},
   "outputs": [],
   "source": [
    "df=restructure_data(df,cluster_types)"
   ]
  },
  {
   "cell_type": "code",
   "execution_count": 13,
   "id": "7b8e0929",
   "metadata": {},
   "outputs": [],
   "source": [
    "X,y=df.drop(['total_spend'],axis=1),df.total_spend"
   ]
  },
  {
   "cell_type": "code",
   "execution_count": 14,
   "id": "8e43a416",
   "metadata": {},
   "outputs": [],
   "source": [
    "X=encode_and_concat(X,cat_types)\n"
   ]
  },
  {
   "cell_type": "code",
   "execution_count": 15,
   "id": "bb775277",
   "metadata": {},
   "outputs": [],
   "source": [
    "### Hyperparameter tuning takes place here. A bit of trial and error \n",
    "dmatrix = xgb.DMatrix(data=X, label=y)\n",
    "params = { 'max_depth': 100,\n",
    "           'learning_rate': 0.3,\n",
    "           'colsample_bytree': 0.3,\n",
    "            'alpha': 50,\n",
    "         'subsample': 0.6}\n",
    "cv_results = xgb.cv(dtrain=dmatrix, \n",
    "                   params=params,\n",
    "                   metrics='rmse', \n",
    "                   as_pandas=True,\n",
    "                    num_boost_round=100,\n",
    "                 early_stopping_rounds=20,\n",
    "                   nfold=5)\n"
   ]
  },
  {
   "cell_type": "code",
   "execution_count": 16,
   "id": "4dc83cdf",
   "metadata": {},
   "outputs": [
    {
     "data": {
      "text/html": [
       "<div>\n",
       "<style scoped>\n",
       "    .dataframe tbody tr th:only-of-type {\n",
       "        vertical-align: middle;\n",
       "    }\n",
       "\n",
       "    .dataframe tbody tr th {\n",
       "        vertical-align: top;\n",
       "    }\n",
       "\n",
       "    .dataframe thead th {\n",
       "        text-align: right;\n",
       "    }\n",
       "</style>\n",
       "<table border=\"1\" class=\"dataframe\">\n",
       "  <thead>\n",
       "    <tr style=\"text-align: right;\">\n",
       "      <th></th>\n",
       "      <th>train-rmse-mean</th>\n",
       "      <th>train-rmse-std</th>\n",
       "      <th>test-rmse-mean</th>\n",
       "      <th>test-rmse-std</th>\n",
       "    </tr>\n",
       "  </thead>\n",
       "  <tbody>\n",
       "    <tr>\n",
       "      <th>0</th>\n",
       "      <td>1.048762</td>\n",
       "      <td>0.001317</td>\n",
       "      <td>1.050063</td>\n",
       "      <td>0.005028</td>\n",
       "    </tr>\n",
       "    <tr>\n",
       "      <th>1</th>\n",
       "      <td>1.013383</td>\n",
       "      <td>0.001683</td>\n",
       "      <td>1.015827</td>\n",
       "      <td>0.005164</td>\n",
       "    </tr>\n",
       "    <tr>\n",
       "      <th>2</th>\n",
       "      <td>0.995624</td>\n",
       "      <td>0.001352</td>\n",
       "      <td>0.998848</td>\n",
       "      <td>0.005822</td>\n",
       "    </tr>\n",
       "    <tr>\n",
       "      <th>3</th>\n",
       "      <td>0.985551</td>\n",
       "      <td>0.001658</td>\n",
       "      <td>0.989722</td>\n",
       "      <td>0.005957</td>\n",
       "    </tr>\n",
       "    <tr>\n",
       "      <th>4</th>\n",
       "      <td>0.980085</td>\n",
       "      <td>0.002147</td>\n",
       "      <td>0.985027</td>\n",
       "      <td>0.005294</td>\n",
       "    </tr>\n",
       "  </tbody>\n",
       "</table>\n",
       "</div>"
      ],
      "text/plain": [
       "   train-rmse-mean  train-rmse-std  test-rmse-mean  test-rmse-std\n",
       "0         1.048762        0.001317        1.050063       0.005028\n",
       "1         1.013383        0.001683        1.015827       0.005164\n",
       "2         0.995624        0.001352        0.998848       0.005822\n",
       "3         0.985551        0.001658        0.989722       0.005957\n",
       "4         0.980085        0.002147        0.985027       0.005294"
      ]
     },
     "execution_count": 16,
     "metadata": {},
     "output_type": "execute_result"
    }
   ],
   "source": [
    "cv_results.head()"
   ]
  },
  {
   "cell_type": "code",
   "execution_count": 17,
   "id": "77cf9083",
   "metadata": {},
   "outputs": [
    {
     "name": "stdout",
     "output_type": "stream",
     "text": [
      "26    0.976046\n",
      "Name: test-rmse-mean, dtype: float64\n"
     ]
    }
   ],
   "source": [
    "## since data is standardized, the mean response is 0. The rmse here is relatviely close to zero\n",
    "print((cv_results[\"test-rmse-mean\"]).tail(1))"
   ]
  },
  {
   "cell_type": "code",
   "execution_count": 18,
   "id": "bfcf9275",
   "metadata": {},
   "outputs": [],
   "source": [
    "## train model for Variable importance to determine which variables will build profile \n",
    "xg_reg = xgb.train(params=params, dtrain=dmatrix, num_boost_round=100)\n"
   ]
  },
  {
   "cell_type": "code",
   "execution_count": 19,
   "id": "a107862d",
   "metadata": {},
   "outputs": [
    {
     "data": {
      "image/png": "[encoded data removed]",
      "text/plain": [
       "<Figure size 432x288 with 1 Axes>"
      ]
     },
     "metadata": {
      "needs_background": "light"
     },
     "output_type": "display_data"
    }
   ],
   "source": [
    "# Variable importance code \n",
    "xgb.plot_importance(xg_reg)\n",
    "plt.rcParams['figure.figsize'] = [5, 5]\n",
    "plt.show()"
   ]
  }
 ],
 "metadata": {
  "kernelspec": {
   "display_name": "Python 3",
   "language": "python",
   "name": "python3"
  },
  "language_info": {
   "codemirror_mode": {
    "name": "ipython",
    "version": 3
   },
   "file_extension": ".py",
   "mimetype": "text/x-python",
   "name": "python",
   "nbconvert_exporter": "python",
   "pygments_lexer": "ipython3",
   "version": "3.8.8"
  }
 },
 "nbformat": 4,
 "nbformat_minor": 5
}
