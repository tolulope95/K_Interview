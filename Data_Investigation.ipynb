{
 "cells": [
  {
   "cell_type": "code",
   "execution_count": 1,
   "id": "96beeb08",
   "metadata": {},
   "outputs": [],
   "source": [
    "import import_ipynb\n",
    "import pandas as pd\n",
    "import numpy as np\n",
    "import sqlite3\n",
    "from sklearn.preprocessing import StandardScaler\n",
    "from sklearn.decomposition import PCA\n",
    "from sklearn import decomposition\n",
    "from sklearn.compose import ColumnTransformer\n"
   ]
  },
  {
   "cell_type": "code",
   "execution_count": 2,
   "id": "be24106b",
   "metadata": {},
   "outputs": [],
   "source": [
    "path1='./ka_devices.db'\n",
    "path2='./ka_users.csv'\n",
    "path3='./ka_actions.parquet'"
   ]
  },
  {
   "cell_type": "code",
   "execution_count": 3,
   "id": "8aea812a",
   "metadata": {},
   "outputs": [],
   "source": [
    "def Load_and_Combine(path1,path2,path3):\n",
    "    con=sqlite3.connect('./ka_devices.db')\n",
    "    file1=pd.read_sql_query('SELECT * FROM devices',con)\n",
    "    file2=pd.read_csv('./ka_users.csv')\n",
    "    file3=pd.read_parquet(path3,engine='pyarrow')\n",
    "    frame=file2.merge(file1,on='uid_s')\n",
    "    frame=frame.merge(file3,on='uid_s')\n",
    "    return frame"
   ]
  },
  {
   "cell_type": "code",
   "execution_count": 4,
   "id": "1bed362b",
   "metadata": {},
   "outputs": [],
   "source": [
    "## filter data, we are interested in those who completed the tutorial###\n",
    "def Filter_Data(Frame):\n",
    "    Frame=Frame[Frame['game_stats_tutorial_complete']==1]\n",
    "    nlls=Frame.isnull().any()\n",
    "    s_nlls=Frame.isna().sum()\n",
    "    return Frame, s_nlls\n"
   ]
  },
  {
   "cell_type": "code",
   "execution_count": 5,
   "id": "77f34159",
   "metadata": {},
   "outputs": [],
   "source": [
    "def Split_Col_Types(frame):\n",
    "    column_types=frame.columns.to_series().groupby(frame.dtypes).groups\n",
    "    types={i.name: v for i, v in column_types.items()}\n",
    "    cat_types=[i for i in types['object']]\n",
    "    cluster_types=[i for i in types['float64']]\n",
    "    cluster_types.append('total_spend')\n",
    "    return  types, cat_types, cluster_types\n",
    "\n",
    "#types,cat_types,cluster_types=Split_Col_Types(df_F)"
   ]
  },
  {
   "cell_type": "code",
   "execution_count": 6,
   "id": "6089d4ec",
   "metadata": {},
   "outputs": [],
   "source": [
    "def Show_Unique_Values(Frame,cat_types):\n",
    "    for col in cat_types:\n",
    "        print(Frame[col].unique())\n",
    "        \n",
    "    "
   ]
  },
  {
   "cell_type": "code",
   "execution_count": 7,
   "id": "cc09a094",
   "metadata": {},
   "outputs": [],
   "source": [
    "#Show_Unique_Values(df_F,cat_types)"
   ]
  },
  {
   "cell_type": "code",
   "execution_count": 8,
   "id": "c3b196bd",
   "metadata": {},
   "outputs": [],
   "source": [
    "### too many distinct values for these categories. This will be an issue when One hot Encoding. \n",
    "##### We can also use nltk and reg expression to reduce the amount of variability by grouping up.. consider this if time permits\n",
    "def Count_Unique(Frame,cat_types):\n",
    "    Frame[cat_types].nunique()"
   ]
  },
  {
   "cell_type": "code",
   "execution_count": 9,
   "id": "7271de35",
   "metadata": {},
   "outputs": [],
   "source": [
    "columns_drop=['game_stats_tutorial_complete','index','device_os_s','device_mapped_s','geo_s','device_manufacturer_s','device_model_s','device_gpu_s','lang_s']\n"
   ]
  },
  {
   "cell_type": "code",
   "execution_count": 10,
   "id": "f466ebbf",
   "metadata": {},
   "outputs": [],
   "source": [
    "def Drop_Cols(Frame,columns_drop):\n",
    "    Frame=Frame.drop(columns_drop,axis=1)\n",
    "    return Frame"
   ]
  },
  {
   "cell_type": "code",
   "execution_count": 11,
   "id": "f9d36712",
   "metadata": {},
   "outputs": [],
   "source": [
    "'''\n",
    "\n",
    "\n",
    "def Restruct_Data(Frame,cluster_types):\n",
    "    Frame.dropna(inplace=True)\n",
    "    scaler=StandardScaler()\n",
    "    Frame[cluster_types]=scaler.fit(Frame[cluster_types])\n",
    "    Frame[cluster_types]=scaler.transform(Frame[cluster_types])\n",
    "    Frame=pd.DataFrame(Frame,columns=Frame.columns)\n",
    "    Frame.set_index('uid_s',inplace=True)\n",
    "    return Frame\n",
    "\n",
    "'''\n",
    "def Restruct_Data(Frame,cluster_types):\n",
    "    Frame=Frame.dropna()\n",
    "    names=Frame.columns\n",
    "    scaler=StandardScaler()\n",
    "    ct = ColumnTransformer([\n",
    "        ('somename', StandardScaler(), cluster_types)\n",
    "    ], remainder='passthrough')\n",
    "    Frame=ct.fit_transform(Frame)\n",
    "    Frame=pd.DataFrame(Frame,columns=names)\n",
    "    return Frame"
   ]
  },
  {
   "cell_type": "code",
   "execution_count": 12,
   "id": "777d8790",
   "metadata": {},
   "outputs": [],
   "source": [
    "def encode_and_concat(dataframe, feature):\n",
    "    dummies = pd.get_dummies(dataframe[feature])\n",
    "    res = pd.concat([dataframe, dummies], axis=1)\n",
    "    res = res.drop(feature, axis=1)\n",
    "    return(res) \n",
    "\n",
    "\n"
   ]
  },
  {
   "cell_type": "code",
   "execution_count": null,
   "id": "f2a3b4c3",
   "metadata": {},
   "outputs": [],
   "source": []
  },
  {
   "cell_type": "code",
   "execution_count": null,
   "id": "5b31a566",
   "metadata": {},
   "outputs": [],
   "source": []
  },
  {
   "cell_type": "code",
   "execution_count": null,
   "id": "1c87d0c5",
   "metadata": {},
   "outputs": [],
   "source": []
  }
 ],
 "metadata": {
  "kernelspec": {
   "display_name": "Python 3",
   "language": "python",
   "name": "python3"
  },
  "language_info": {
   "codemirror_mode": {
    "name": "ipython",
    "version": 3
   },
   "file_extension": ".py",
   "mimetype": "text/x-python",
   "name": "python",
   "nbconvert_exporter": "python",
   "pygments_lexer": "ipython3",
   "version": "3.8.8"
  }
 },
 "nbformat": 4,
 "nbformat_minor": 5
}
